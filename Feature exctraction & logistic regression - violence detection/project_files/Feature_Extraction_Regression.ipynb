{
  "cells": [
    {
      "cell_type": "markdown",
      "metadata": {
        "id": "zKSpfLx-5d1i"
      },
      "source": [
        "# Comparación Feature Extraction y Todas las Características\n",
        "### Santiago Mora\n",
        "### Gabriel Reynoso\n",
        "### Adamaris de Dios\n",
        "### Adara Pulido"
      ]
    },
    {
      "cell_type": "code",
      "execution_count": null,
      "metadata": {
        "id": "wZNMC1Ti9sgr"
      },
      "outputs": [],
      "source": [
        "import pandas as pd\n",
        "from sklearn.model_selection import train_test_split\n",
        "from sklearn.linear_model import LogisticRegression\n",
        "from sklearn.metrics import accuracy_score\n",
        "import numpy as np\n",
        "from sklearn.preprocessing import StandardScaler, OneHotEncoder\n",
        "from sklearn.compose import make_column_transformer\n",
        "from sklearn.pipeline import make_pipeline"
      ]
    },
    {
      "cell_type": "code",
      "execution_count": null,
      "metadata": {
        "id": "dVfPB9f7SX2L"
      },
      "outputs": [],
      "source": [
        "dff = pd.read_csv('/content/drive/MyDrive/ProyectoAnalisisDS/DFPF0803.csv')"
      ]
    },
    {
      "cell_type": "code",
      "execution_count": null,
      "metadata": {
        "colab": {
          "base_uri": "https://localhost:8080/"
        },
        "id": "DNhJLUjznv8E",
        "outputId": "666a2084-f92a-453d-bec4-94ded1edc5f0"
      },
      "outputs": [
        {
          "name": "stdout",
          "output_type": "stream",
          "text": [
            "Mounted at /content/drive\n"
          ]
        }
      ],
      "source": [
        "from google.colab import drive\n",
        "drive.mount('/content/drive')"
      ]
    },
    {
      "cell_type": "code",
      "execution_count": null,
      "metadata": {
        "colab": {
          "base_uri": "https://localhost:8080/"
        },
        "id": "9COJebTgiskY",
        "outputId": "c397fce1-c397-4016-f634-9a9402da00e4"
      },
      "outputs": [
        {
          "name": "stdout",
          "output_type": "stream",
          "text": [
            "<class 'pandas.core.frame.DataFrame'>\n",
            "RangeIndex: 100171 entries, 0 to 100170\n",
            "Columns: 191 entries, Unnamed: 0.1 to PE5_15\n",
            "dtypes: float64(87), int64(101), object(3)\n",
            "memory usage: 146.0+ MB\n"
          ]
        }
      ],
      "source": [
        "dff.info()"
      ]
    },
    {
      "cell_type": "code",
      "execution_count": null,
      "metadata": {
        "colab": {
          "base_uri": "https://localhost:8080/"
        },
        "id": "MAjSiX6ctcDc",
        "outputId": "2bd9a66c-3698-4fdd-e5bc-f19e2f0cd3dc"
      },
      "outputs": [
        {
          "data": {
            "text/plain": [
              "Index(['Unnamed: 0.1', 'Unnamed: 0', 'ID_VIV', 'ID_PER', 'HOGAR', 'DOMINIO',\n",
              "       'NOM_ENT', 'POB_E_A', 'POB_L_A', 'POB_E_12M',\n",
              "       ...\n",
              "       'PE5_6', 'PE5_7', 'PE5_8', 'PE5_9', 'PE5_10', 'PE5_11', 'PE5_12',\n",
              "       'PE5_13', 'PE5_14', 'PE5_15'],\n",
              "      dtype='object', length=191)"
            ]
          },
          "execution_count": 8,
          "metadata": {},
          "output_type": "execute_result"
        }
      ],
      "source": [
        "dff.columns"
      ]
    },
    {
      "cell_type": "code",
      "execution_count": null,
      "metadata": {
        "colab": {
          "base_uri": "https://localhost:8080/"
        },
        "id": "MQSuxa3h0O7d",
        "outputId": "1eef7705-5bf5-4459-b76e-c9c1a1c5414b"
      },
      "outputs": [
        {
          "name": "stdout",
          "output_type": "stream",
          "text": [
            "Unnamed: 0.1 [     0      1      2 ... 110123 110125 110126]\n",
            "Unnamed: 0 [     0      1      2 ... 110123 110125 110126]\n",
            "ID_VIV [ 100003.01  100003.02  100003.03 ... 3260787.15 3260787.17 3260787.18]\n",
            "ID_PER ['0100003.01.1.02' '0100003.02.1.02' '0100003.03.1.03' ...\n",
            " '3260787.15.1.02' '3260787.17.1.02' '3260787.18.1.03']\n",
            "HOGAR [1 3 2 4 5]\n",
            "DOMINIO ['U' 'C' 'R']\n",
            "NOM_ENT ['AGUASCALIENTES' 'BAJA CALIFORNIA' 'BAJA CALIFORNIA SUR' 'CAMPECHE'\n",
            " 'COAHUILA DE ZARAGOZA' 'COLIMA' 'CHIAPAS' 'CHIHUAHUA' 'CIUDAD DE MÉXICO'\n",
            " 'DURANGO' 'GUANAJUATO' 'GUERRERO' 'HIDALGO' 'JALISCO' 'MÉXICO'\n",
            " 'MICHOACÁN DE OCAMPO' 'MORELOS' 'NAYARIT' 'NUEVO LEÓN' 'OAXACA' 'PUEBLA'\n",
            " 'QUERÉTARO' 'QUINTANA ROO' 'SAN LUIS POTOSÍ' 'SINALOA' 'SONORA' 'TABASCO'\n",
            " 'TAMAULIPAS' 'TLAXCALA' 'VERACRUZ DE IGNACIO DE LA LLAVE' 'YUCATÁN'\n",
            " 'ZACATECAS']\n",
            "POB_E_A [1 0]\n",
            "POB_L_A [1 0]\n",
            "POB_E_12M [0 1]\n",
            "POB_L_12M [1 0]\n",
            "VTOT_A [1 2 9]\n",
            "VTOT_12M [1 2 9]\n",
            "VPSI_A [1 2 9]\n",
            "VPSI_12M [1 2 9]\n",
            "VFIS_A [1 2 9]\n",
            "VFIS_12M [2 1 9]\n",
            "VECO_A [2 1 9]\n",
            "VECO_12M [2 1 9]\n",
            "VSEX_A [1 2 9]\n",
            "VSEX_12M [2 1 9]\n",
            "VCOM_A [1 2]\n",
            "VCOM_12M [2 1 9]\n",
            "VFAM [2 1]\n",
            "VPAR_A [1. 2.]\n",
            "VPAR_12M [1. 2.]\n",
            "ESTRATO [4 2 3 1]\n",
            "P4_1 [1 2]\n",
            "P4_8_1 [2 1]\n",
            "P4_8_2 [2 1]\n",
            "P4_8_3 [2 1]\n",
            "P4_8_4 [2 1]\n",
            "P4_8_5 [2 1]\n",
            "P4_8_6 [2 1]\n",
            "P4_8_7 [2 1]\n",
            "P4_11 [1 2]\n",
            "P4_12_1 [2 1]\n",
            "P4_12_2 [1 2]\n",
            "P4_12_3 [2 1]\n",
            "P4_12_4 [1 2]\n",
            "P4_12_5 [2 1]\n",
            "P4_12_6 [2 1]\n",
            "P4_12_7 [2 1]\n",
            "P6_1_1 [3 1 2]\n",
            "P6_1_2 [3 2 1]\n",
            "P6_1_3 [3 1 2]\n",
            "P6_1_4 [3 2 1]\n",
            "P6_1_5 [3 2 1]\n",
            "P6_2_1 [1 2]\n",
            "P6_2_2 [1 2]\n",
            "P6_2_3 [1 2]\n",
            "P6_2_4 [2 1]\n",
            "P12_1 [2 1 4 3]\n",
            "P12_2 [2 1 4 3]\n",
            "P12_3 [3 2 1 4]\n",
            "P12_4 [1 3 2]\n",
            "P12_5 [1 3 2]\n",
            "P12_6 [1 3 2]\n",
            "P12_7 [1 3 2]\n",
            "P12_8 [2. 8. 1. 3.]\n",
            "P12_9 [2. 8. 1.]\n",
            "P12_10 [1. 3. 4. 2.]\n",
            "P12_11 [3. 1. 4. 2.]\n",
            "P12_12 [3 1 4 2]\n",
            "P12_13 [3 1 4 2]\n",
            "P12_14_1 [1 2 8]\n",
            "P12_14_2 [2 8 1]\n",
            "P12_14_3 [1 2 8]\n",
            "P12_14_4 [2 1 8]\n",
            "P12_14_5 [2 8 1]\n",
            "P12_14_6 [2 8 1]\n",
            "P13_1 [ 1.  5.  4.  0.  8.  3.  6.  2. 11.  7.  9. 12. 10. 15. 14. 13. 16. 21.\n",
            " 18. 20. 17. 24. 19.]\n",
            "P13_5 [1. 2.]\n",
            "P13_6 [18. 24. 25. 23. 19. 15. 27.  0. 17. 21. 22. 14. 20. 33. 13.  7. 30. 29.\n",
            " 34. 16. 31. 37. 26.  9. 32. 28. 42. 36. 52. 38. 45. 56. 35. 40.  5. 12.\n",
            " 10.  8. 39.  3. 43.  6. 51. 11. 46. 48. 50. 41.  4. 53. 54. 44. 47. 64.\n",
            " 73. 49. 60. 57.]\n",
            "P13_8 [21. 22. 24. 18. 14. 15. 16. 25. 23. 19. 17. 20. 46. 39. 51. 27. 45. 38.\n",
            " 26. 30. 44.  0. 42. 50. 29. 13. 31. 40. 37. 36. 53. 28. 34. 11. 35. 32.\n",
            " 43. 33. 54. 41. 49. 12. 48. 47. 66. 59. 74. 10. 52. 57. 70. 55. 58. 56.\n",
            " 75. 62. 61. 60. 67. 65. 82. 63. 69. 73. 68. 77. 64. 72. 95.]\n",
            "P13_1_1_1 [2. 1.]\n",
            "P13_1_1_2 [2. 1.]\n",
            "P13_1_1_3 [2. 1.]\n",
            "P13_1_1_4 [2. 1.]\n",
            "P13_1_1_5 [2. 1.]\n",
            "P13_1_1_6 [1. 2.]\n",
            "P13_1_1_7 [2. 1.]\n",
            "P13_1_1_8 [2. 1.]\n",
            "P13_1_1_13 [2. 1.]\n",
            "P13_1_1_14 [2. 1.]\n",
            "P13_1_2_1 [2. 1.]\n",
            "P13_1_2_2 [2. 1.]\n",
            "P13_1_2_3 [2. 1.]\n",
            "P13_1_2_4 [2. 1.]\n",
            "P13_1_2_5 [2. 1.]\n",
            "P13_1_2_6 [1. 2.]\n",
            "P13_1_2_7 [2. 1.]\n",
            "P13_1_2_8 [1. 2.]\n",
            "P13_1_2_13 [2. 1.]\n",
            "P13_1_2_14 [2. 1.]\n",
            "P13_1_3_1 [2. 1.]\n",
            "P13_1_3_2 [1. 2.]\n",
            "P13_1_3_3 [2. 1.]\n",
            "P13_1_3_4 [2. 1.]\n",
            "P13_1_3_5 [2. 1.]\n",
            "P13_1_3_6 [2. 1.]\n",
            "P13_1_3_7 [2. 1.]\n",
            "P13_1_3_9 [2. 1.]\n",
            "P13_1_3_10 [1. 2.]\n",
            "P13_1_3_11 [2. 1.]\n",
            "P13_1_3_12 [2. 1.]\n",
            "P13_1_4_1 [1. 2.]\n",
            "P13_1_4_2 [2. 1.]\n",
            "P13_1_4_3 [2. 1.]\n",
            "P13_1_4_4 [2. 1.]\n",
            "P13_1_4_5 [2. 1.]\n",
            "P13_1_4_6 [2. 1.]\n",
            "P13_1_4_7 [2. 1.]\n",
            "P13_1_4_9 [2. 1.]\n",
            "P13_1_4_10 [1. 2.]\n",
            "P13_1_4_11 [2. 1.]\n",
            "P13_1_4_12 [2. 1.]\n",
            "P13_1_5 [2. 4. 5. 1. 3.]\n",
            "P14_1_1 [4. 1. 3. 2.]\n",
            "P14_1_2 [4. 1. 2. 3.]\n",
            "P14_1_3 [4. 2. 3. 1.]\n",
            "P14_1_4 [4. 2. 3. 1.]\n",
            "P14_1_5 [4. 1. 3. 2.]\n",
            "P14_1_6 [4. 2. 3. 1.]\n",
            "P14_1_7 [4. 3. 2. 1.]\n",
            "P14_1_8 [4. 3. 2. 1.]\n",
            "P14_1_9 [4. 2. 1. 3.]\n",
            "P14_1_10 [4. 1. 2. 3.]\n",
            "P14_1_11 [4. 2. 1. 3.]\n",
            "P14_1_12 [4. 2. 1. 3.]\n",
            "P14_1_13 [2. 4. 1. 3.]\n",
            "P14_1_14 [4. 2. 1. 3.]\n",
            "P14_1_15 [4. 3. 2. 1.]\n",
            "P14_1_16 [4. 2. 1. 3.]\n",
            "P14_1_17 [4. 1. 3. 2.]\n",
            "P14_1_18 [4. 2. 3. 1.]\n",
            "P14_1_19 [4. 2. 3. 1.]\n",
            "P14_1_20 [4. 1. 2. 3.]\n",
            "P14_1_21 [4. 1. 2. 3.]\n",
            "P14_1_22 [4. 1. 2. 3.]\n",
            "P14_1_25 [4. 1. 3. 2.]\n",
            "P14_1_26 [4. 1. 2. 3.]\n",
            "P14_1_27 [4. 1. 2. 3.]\n",
            "P14_1_28 [4. 2. 1. 3.]\n",
            "P14_1_29 [4. 1. 2. 3.]\n",
            "P14_1_30 [4. 1. 2. 3.]\n",
            "P14_1_31 [4. 3. 2. 1.]\n",
            "P14_1_32 [4. 1. 3. 2.]\n",
            "P14_1_33 [4. 1. 2. 3.]\n",
            "P14_1_34 [4. 2. 1. 3.]\n",
            "P14_43 [3. 5. 6. 4. 2. 8. 7. 1.]\n",
            "P16_1_1 [1 0]\n",
            "P16_1_2 [0 1]\n",
            "P16_1_3 [1 0]\n",
            "P16_1_4 [0 1]\n",
            "P16_1_5 [0 1]\n",
            "P16_1_6 [0 1]\n",
            "P16_2_1 [1 2]\n",
            "P16_2_2 [1 2]\n",
            "P16_2_3 [1 2]\n",
            "P16_2_4 [1 2]\n",
            "P16_2_5 [2 1]\n",
            "P16_2_6 [2 1]\n",
            "P16_3_1_1 [4 6 2 5 1 3]\n",
            "P16_3_2_1 [2 4 5 6 1 3]\n",
            "P16_3_3_1 [4 6 3 2 1 5]\n",
            "P16_3_4_1 [2 4 6 5 1 3]\n",
            "P16_3_5_1 [2 4 6 3 1 5]\n",
            "P16_3_6_1 [2 4 1 5 6 3]\n",
            "P17_1_1_1 [ 1 15  2 14  3  6  5  8  4  9 12  7 11 13 10]\n",
            "P17_1_2_1 [15  1  4 12 14  3  5  9 10 13  8  6  2 11  7]\n",
            "P17_1_3_1 [ 1  2 11 15  3 14  6 13  4 12  8  9  7  5 10]\n",
            "P17_1_4_1 [ 1  2  4  7 12  3  6  5 10  8 13 15 11  9 14]\n",
            "P17_1_5_1 [15  1  4 14  3  5  2  6  9 13  7  8 12 10 11]\n",
            "P17_1_6_1 [13 12  2 10  7  1 11 15  4 14  3  5  6  9  8]\n",
            "P17_1_7_1 [15  4  1  6  3  9 14 13  5 10 11  2  8  7 12]\n",
            "PE5_1 [2 1]\n",
            "PE5_2 [2 1]\n",
            "PE5_3 [1 2]\n",
            "PE5_4 [2 1]\n",
            "PE5_5 [2 1]\n",
            "PE5_6 [2 1]\n",
            "PE5_7 [2 1]\n",
            "PE5_8 [2 1]\n",
            "PE5_9 [2 1]\n",
            "PE5_10 [1 2]\n",
            "PE5_11 [1 2]\n",
            "PE5_12 [1 2]\n",
            "PE5_13 [2 1]\n",
            "PE5_14 [1 2]\n",
            "PE5_15 [2 1]\n"
          ]
        }
      ],
      "source": [
        "columns = dff.columns\n",
        "for col in columns:\n",
        "  print(col, dff[col].unique()) #['DOMINIO', 'POB_E_A', 'POB_L_A', 'VTOT_A', 'P4_1', 'P4_8_2', 'P4_8_3', 'P4_11', 'P4_12_3', 'P4_12_3', 'P6_1_4', 'P6_1_5', 'P12_4', 'P12_5', 'P12_6', 'P12_8', 'P12_9', 'P12_11', 'P12_13', 'P12_14_1', 'P12_14_5', 'P13_1', 'P13_6', 'P13_8', 'P13_1_1_2', 'P13_1_1_6', 'P13_1_1_7', 'P13_1_1_13', 'P13_1_2_3', 'P13_1_2_7', 'P13_1_2_8', 'P13_1_3_2', 'P13_1_4_2', 'P14_1_10', 'P14_1_11', 'P14_1_14', 'P14_1_17', 'P14_1_26', 'P14_1_29', 'P16_1_5', 'P16_2_1', 'P16_3_4_1', 'P17_1_1_1', 'PE5_1', 'PE5_3', 'PE5_5', 'PE5_7', 'PE5_12', 'PE5_14', 'PE5_15']"
      ]
    },
    {
      "cell_type": "markdown",
      "metadata": {
        "id": "yhpp4YcF4SFf"
      },
      "source": [
        "División de variables independientes y variable objetivo"
      ]
    },
    {
      "cell_type": "code",
      "execution_count": null,
      "metadata": {
        "id": "HzPwG9916Ujb"
      },
      "outputs": [],
      "source": [
        "cols = ['VPAR_12M', 'DOMINIO', 'POB_E_A', 'POB_L_A', 'VTOT_A', 'P4_1', 'P4_8_2', 'P4_8_3', 'P4_11', 'P4_12_3', 'P6_1_4', 'P6_1_5', 'P12_4', 'P12_5', 'P12_6', 'P12_8', 'P12_9', 'P12_11', 'P12_13', 'P12_14_1', 'P12_14_5', 'P13_1', 'P13_6', 'P13_8', 'P13_1_1_2', 'P13_1_1_6', 'P13_1_1_7', 'P13_1_1_13', 'P13_1_2_3', 'P13_1_2_7', 'P13_1_2_8', 'P13_1_3_2', 'P13_1_4_2', 'P14_1_10', 'P14_1_11', 'P14_1_14', 'P14_1_17', 'P14_1_26', 'P14_1_29', 'P16_1_5', 'P16_2_1', 'P16_3_4_1', 'P17_1_1_1', 'PE5_1', 'PE5_3', 'PE5_5', 'PE5_7', 'PE5_12', 'PE5_14', 'PE5_15']\n",
        "dff = dff[cols]"
      ]
    },
    {
      "cell_type": "code",
      "execution_count": null,
      "metadata": {
        "id": "jGmP-jtroSZ3"
      },
      "outputs": [],
      "source": [
        "dff.info()"
      ]
    },
    {
      "cell_type": "code",
      "execution_count": null,
      "metadata": {
        "id": "-Iug5Iwu6_h1"
      },
      "outputs": [],
      "source": [
        "X = dff.drop(columns = 'VPAR_12M')\n",
        "y = dff[\"VPAR_12M\"]"
      ]
    },
    {
      "cell_type": "markdown",
      "metadata": {
        "id": "j_3ZQu2O4jjn"
      },
      "source": [
        "Seleccion de variables numéricas y variables categóricas"
      ]
    },
    {
      "cell_type": "code",
      "execution_count": null,
      "metadata": {
        "id": "orBauDjqjfZ_"
      },
      "outputs": [],
      "source": [
        "num_vars = X[['P13_1', 'P13_6', 'P13_8']].columns\n",
        "cat_vars = X.drop(columns = ['P13_1', 'P13_6', 'P13_8']).columns"
      ]
    },
    {
      "cell_type": "markdown",
      "metadata": {
        "id": "Ueolya8S44L5"
      },
      "source": [
        "Obtención de las categorías de las variables categóricas codificadas"
      ]
    },
    {
      "cell_type": "code",
      "execution_count": null,
      "metadata": {
        "id": "ytQ-RLVd-nE1"
      },
      "outputs": [],
      "source": [
        "enc = OneHotEncoder()\n",
        "enc = enc.fit(X[cat_vars])\n",
        "categories = enc.categories_"
      ]
    },
    {
      "cell_type": "code",
      "execution_count": null,
      "metadata": {
        "id": "e5X05iBYW1iZ"
      },
      "outputs": [],
      "source": [
        "pre_processing = make_column_transformer((StandardScaler(), num_vars),\n",
        "                                         (OneHotEncoder(drop = 'first', categories = categories), cat_vars))"
      ]
    },
    {
      "cell_type": "markdown",
      "metadata": {
        "id": "rz5j92x_5MwH"
      },
      "source": [
        "División del conjunto de datos en conjuntos de entrenamiento y prueba"
      ]
    },
    {
      "cell_type": "code",
      "execution_count": null,
      "metadata": {
        "id": "_9HQPOSnW5ZC"
      },
      "outputs": [],
      "source": [
        "X_train, X_test, y_train, y_test = train_test_split(X, y, test_size = 0.30, random_state = 1234)"
      ]
    },
    {
      "cell_type": "markdown",
      "metadata": {
        "id": "HHIVl0Ey5fqA"
      },
      "source": [
        "Modelo de regresión logística"
      ]
    },
    {
      "cell_type": "code",
      "execution_count": null,
      "metadata": {
        "id": "Gt_R7acPW8sQ"
      },
      "outputs": [],
      "source": [
        "lr = LogisticRegression(solver='saga', max_iter = 10000)"
      ]
    },
    {
      "cell_type": "code",
      "execution_count": null,
      "metadata": {
        "id": "VbKclAGIXD1U"
      },
      "outputs": [],
      "source": [
        "lr_pipeline = make_pipeline(pre_processing, lr)"
      ]
    },
    {
      "cell_type": "code",
      "execution_count": null,
      "metadata": {
        "id": "k89WYHAiiDkM"
      },
      "outputs": [],
      "source": [
        "lr_fitted = lr_pipeline.fit(X_train, y_train)"
      ]
    },
    {
      "cell_type": "markdown",
      "metadata": {
        "id": "uqfZcP4h579L"
      },
      "source": [
        "Precisión del modelo"
      ]
    },
    {
      "cell_type": "code",
      "execution_count": null,
      "metadata": {
        "colab": {
          "base_uri": "https://localhost:8080/"
        },
        "id": "kL_QLpO7XIk4",
        "outputId": "abfa3672-e1ee-4cc8-a18d-a9a433622929"
      },
      "outputs": [
        {
          "data": {
            "text/plain": [
              "0.8535538400106482"
            ]
          },
          "execution_count": 19,
          "metadata": {},
          "output_type": "execute_result"
        }
      ],
      "source": [
        "lr_pipeline.score(X_test, y_test)"
      ]
    },
    {
      "cell_type": "code",
      "execution_count": null,
      "metadata": {
        "colab": {
          "base_uri": "https://localhost:8080/"
        },
        "id": "0_Cn7Asw5GP1",
        "outputId": "991f6a2d-be6c-4576-d682-ead0535eabf1"
      },
      "outputs": [
        {
          "name": "stdout",
          "output_type": "stream",
          "text": [
            "El intercepto del modelo es:  [-2.07299908]\n",
            "Los coeficientes del modelo son:  [[ 0.13480649  0.06552046 -0.0551639  -0.18927948  0.07853463 -0.10240099\n",
            "   0.10444738  6.36348258  2.82437303 -0.09474249 -0.14364206 -0.29841965\n",
            "  -0.03014872  0.15998446 -0.31548187 -0.01317438 -0.02014184  0.10011643\n",
            "   0.0560375  -0.08549716 -0.11821898  0.16301339  0.00831727  0.03325837\n",
            "   0.041439    0.1573158   0.27748221  0.04919359  0.22803884  0.22272007\n",
            "   0.03319162  0.02831402  0.1241295   0.16914842 -0.0489143   0.08215746\n",
            "  -0.0196665   0.0315539   0.18644438  0.08319479  0.36880153 -0.15446436\n",
            "   0.08667528  0.1625199  -0.09884869  0.15670734  0.21097663  0.44995891\n",
            "  -1.30311944 -0.18078768  0.59975625 -0.05270088 -0.41494415  0.30182636\n",
            "  -0.64217749 -0.56341799 -0.12595708 -0.31316857 -0.29259617  1.16699925\n",
            "   0.21262184  0.06494637 -0.14391576 -0.11452342 -0.16651933 -0.53221757\n",
            "   0.05852838 -0.17513893 -0.06095661 -0.08921794  0.03431187 -0.13843952\n",
            "  -0.13006737 -0.40118292 -0.21206263  0.39998647  0.892131    0.23974346\n",
            "   0.3134001   0.17793674  0.24020551 -0.03931679  0.05101521  0.22397833\n",
            "  -0.25682982 -0.02042463  0.42793907  0.30946297  0.30418828  0.408324\n",
            "   0.12949757  0.01739604  0.05795017  0.1213135 ]]\n"
          ]
        }
      ],
      "source": [
        "print(\"El intercepto del modelo es: \", lr_pipeline.named_steps[\"logisticregression\"].intercept_)\n",
        "print(\"Los coeficientes del modelo son: \", lr_pipeline.named_steps[\"logisticregression\"].coef_)"
      ]
    },
    {
      "cell_type": "markdown",
      "metadata": {
        "id": "WWSFuXAV6Mj_"
      },
      "source": [
        "Selección de características"
      ]
    },
    {
      "cell_type": "markdown",
      "metadata": {
        "id": "iGBhzatd6j8K"
      },
      "source": [
        "Método de envoltura"
      ]
    },
    {
      "cell_type": "code",
      "execution_count": null,
      "metadata": {
        "colab": {
          "background_save": true
        },
        "id": "H5rTpS-Ljdxt"
      },
      "outputs": [],
      "source": [
        "from mlxtend.feature_selection import SequentialFeatureSelector as SFS\n",
        "sfs = SFS(lr,\n",
        "          k_features = 20,\n",
        "          forward = True,\n",
        "          #floating = False,\n",
        "          scoring = 'accuracy',\n",
        "          cv = 2,\n",
        "          n_jobs = -1\n",
        ")\n",
        "sfs = sfs.fit(X_train.drop(columns = 'DOMINIO'), y_train)"
      ]
    },
    {
      "cell_type": "code",
      "execution_count": null,
      "metadata": {
        "colab": {
          "background_save": true
        },
        "id": "qw7lfwlujlh5",
        "outputId": "26d5992d-1810-447d-97e2-060a8c4dd03e"
      },
      "outputs": [
        {
          "data": {
            "application/vnd.google.colaboratory.intrinsic+json": {
              "repr_error": "0",
              "type": "dataframe"
            },
            "text/html": [
              "\n",
              "  <div id=\"df-799e94e2-0300-4ff6-9db4-0cf8211c97b6\" class=\"colab-df-container\">\n",
              "    <div>\n",
              "<style scoped>\n",
              "    .dataframe tbody tr th:only-of-type {\n",
              "        vertical-align: middle;\n",
              "    }\n",
              "\n",
              "    .dataframe tbody tr th {\n",
              "        vertical-align: top;\n",
              "    }\n",
              "\n",
              "    .dataframe thead th {\n",
              "        text-align: right;\n",
              "    }\n",
              "</style>\n",
              "<table border=\"1\" class=\"dataframe\">\n",
              "  <thead>\n",
              "    <tr style=\"text-align: right;\">\n",
              "      <th></th>\n",
              "      <th>feature_idx</th>\n",
              "      <th>cv_scores</th>\n",
              "      <th>avg_score</th>\n",
              "      <th>feature_names</th>\n",
              "      <th>ci_bound</th>\n",
              "      <th>std_dev</th>\n",
              "      <th>std_err</th>\n",
              "    </tr>\n",
              "  </thead>\n",
              "  <tbody>\n",
              "    <tr>\n",
              "      <th>1</th>\n",
              "      <td>(31,)</td>\n",
              "      <td>[0.8303479749001711, 0.8274908012207992]</td>\n",
              "      <td>0.828919</td>\n",
              "      <td>(P14_1_10,)</td>\n",
              "      <td>0.006147</td>\n",
              "      <td>0.001429</td>\n",
              "      <td>0.001429</td>\n",
              "    </tr>\n",
              "    <tr>\n",
              "      <th>2</th>\n",
              "      <td>(2, 31)</td>\n",
              "      <td>[0.8303479749001711, 0.8274908012207992]</td>\n",
              "      <td>0.828919</td>\n",
              "      <td>(VTOT_A, P14_1_10)</td>\n",
              "      <td>0.006147</td>\n",
              "      <td>0.001429</td>\n",
              "      <td>0.001429</td>\n",
              "    </tr>\n",
              "    <tr>\n",
              "      <th>3</th>\n",
              "      <td>(2, 31, 34)</td>\n",
              "      <td>[0.8373930405019966, 0.8350209646595739]</td>\n",
              "      <td>0.836207</td>\n",
              "      <td>(VTOT_A, P14_1_10, P14_1_17)</td>\n",
              "      <td>0.005103</td>\n",
              "      <td>0.001186</td>\n",
              "      <td>0.001186</td>\n",
              "    </tr>\n",
              "    <tr>\n",
              "      <th>4</th>\n",
              "      <td>(2, 31, 34, 36)</td>\n",
              "      <td>[0.8379920136908158, 0.8363615619384466]</td>\n",
              "      <td>0.837177</td>\n",
              "      <td>(VTOT_A, P14_1_10, P14_1_17, P14_1_29)</td>\n",
              "      <td>0.003508</td>\n",
              "      <td>0.000815</td>\n",
              "      <td>0.000815</td>\n",
              "    </tr>\n",
              "    <tr>\n",
              "      <th>5</th>\n",
              "      <td>(2, 10, 31, 34, 36)</td>\n",
              "      <td>[0.8401026811180833, 0.8378447759491143]</td>\n",
              "      <td>0.838974</td>\n",
              "      <td>(VTOT_A, P12_4, P14_1_10, P14_1_17, P14_1_29)</td>\n",
              "      <td>0.004857</td>\n",
              "      <td>0.001129</td>\n",
              "      <td>0.001129</td>\n",
              "    </tr>\n",
              "    <tr>\n",
              "      <th>6</th>\n",
              "      <td>(2, 10, 31, 34, 36, 41)</td>\n",
              "      <td>[0.8401312036508842, 0.8379303459881914]</td>\n",
              "      <td>0.839031</td>\n",
              "      <td>(VTOT_A, P12_4, P14_1_10, P14_1_17, P14_1_29, ...</td>\n",
              "      <td>0.004735</td>\n",
              "      <td>0.0011</td>\n",
              "      <td>0.0011</td>\n",
              "    </tr>\n",
              "    <tr>\n",
              "      <th>7</th>\n",
              "      <td>(2, 10, 31, 34, 36, 41, 46)</td>\n",
              "      <td>[0.8401597261836851, 0.8379303459881914]</td>\n",
              "      <td>0.839045</td>\n",
              "      <td>(VTOT_A, P12_4, P14_1_10, P14_1_17, P14_1_29, ...</td>\n",
              "      <td>0.004796</td>\n",
              "      <td>0.001115</td>\n",
              "      <td>0.001115</td>\n",
              "    </tr>\n",
              "    <tr>\n",
              "      <th>8</th>\n",
              "      <td>(2, 10, 31, 34, 36, 41, 44, 46)</td>\n",
              "      <td>[0.8401312036508842, 0.8379303459881914]</td>\n",
              "      <td>0.839031</td>\n",
              "      <td>(VTOT_A, P12_4, P14_1_10, P14_1_17, P14_1_29, ...</td>\n",
              "      <td>0.004735</td>\n",
              "      <td>0.0011</td>\n",
              "      <td>0.0011</td>\n",
              "    </tr>\n",
              "    <tr>\n",
              "      <th>9</th>\n",
              "      <td>(2, 10, 31, 34, 36, 41, 44, 45, 46)</td>\n",
              "      <td>[0.8397033656588705, 0.8377592059100374]</td>\n",
              "      <td>0.838731</td>\n",
              "      <td>(VTOT_A, P12_4, P14_1_10, P14_1_17, P14_1_29, ...</td>\n",
              "      <td>0.004183</td>\n",
              "      <td>0.000972</td>\n",
              "      <td>0.000972</td>\n",
              "    </tr>\n",
              "    <tr>\n",
              "      <th>10</th>\n",
              "      <td>(2, 10, 31, 34, 36, 41, 43, 44, 45, 46)</td>\n",
              "      <td>[0.8387906446092414, 0.8384437662226533]</td>\n",
              "      <td>0.838617</td>\n",
              "      <td>(VTOT_A, P12_4, P14_1_10, P14_1_17, P14_1_29, ...</td>\n",
              "      <td>0.000746</td>\n",
              "      <td>0.000173</td>\n",
              "      <td>0.000173</td>\n",
              "    </tr>\n",
              "    <tr>\n",
              "      <th>11</th>\n",
              "      <td>(2, 7, 10, 31, 34, 36, 41, 43, 44, 45, 46)</td>\n",
              "      <td>[0.8391614375356532, 0.8385293362617302]</td>\n",
              "      <td>0.838845</td>\n",
              "      <td>(VTOT_A, P4_12_3, P12_4, P14_1_10, P14_1_17, P...</td>\n",
              "      <td>0.00136</td>\n",
              "      <td>0.000316</td>\n",
              "      <td>0.000316</td>\n",
              "    </tr>\n",
              "    <tr>\n",
              "      <th>12</th>\n",
              "      <td>(2, 7, 9, 10, 31, 34, 36, 41, 43, 44, 45, 46)</td>\n",
              "      <td>[0.8391614375356532, 0.8379873926809093]</td>\n",
              "      <td>0.838574</td>\n",
              "      <td>(VTOT_A, P4_12_3, P6_1_5, P12_4, P14_1_10, P14...</td>\n",
              "      <td>0.002526</td>\n",
              "      <td>0.000587</td>\n",
              "      <td>0.000587</td>\n",
              "    </tr>\n",
              "    <tr>\n",
              "      <th>13</th>\n",
              "      <td>(2, 4, 7, 9, 10, 31, 34, 36, 41, 43, 44, 45, 46)</td>\n",
              "      <td>[0.8385054192812321, 0.8373313557146524]</td>\n",
              "      <td>0.837918</td>\n",
              "      <td>(VTOT_A, P4_8_2, P4_12_3, P6_1_5, P12_4, P14_1...</td>\n",
              "      <td>0.002526</td>\n",
              "      <td>0.000587</td>\n",
              "      <td>0.000587</td>\n",
              "    </tr>\n",
              "    <tr>\n",
              "      <th>14</th>\n",
              "      <td>(2, 4, 7, 9, 10, 24, 31, 34, 36, 41, 43, 44, 4...</td>\n",
              "      <td>[0.8385054192812321, 0.8363330385920876]</td>\n",
              "      <td>0.837419</td>\n",
              "      <td>(VTOT_A, P4_8_2, P4_12_3, P6_1_5, P12_4, P13_1...</td>\n",
              "      <td>0.004673</td>\n",
              "      <td>0.001086</td>\n",
              "      <td>0.001086</td>\n",
              "    </tr>\n",
              "    <tr>\n",
              "      <th>15</th>\n",
              "      <td>(0, 2, 4, 7, 9, 10, 24, 31, 34, 36, 41, 43, 44...</td>\n",
              "      <td>[0.8376782658300057, 0.8369035055192675]</td>\n",
              "      <td>0.837291</td>\n",
              "      <td>(POB_E_A, VTOT_A, P4_8_2, P4_12_3, P6_1_5, P12...</td>\n",
              "      <td>0.001667</td>\n",
              "      <td>0.000387</td>\n",
              "      <td>0.000387</td>\n",
              "    </tr>\n",
              "    <tr>\n",
              "      <th>16</th>\n",
              "      <td>(0, 2, 4, 7, 9, 10, 24, 31, 34, 35, 36, 41, 43...</td>\n",
              "      <td>[0.8373930405019966, 0.8360763284748567]</td>\n",
              "      <td>0.836735</td>\n",
              "      <td>(POB_E_A, VTOT_A, P4_8_2, P4_12_3, P6_1_5, P12...</td>\n",
              "      <td>0.002833</td>\n",
              "      <td>0.000658</td>\n",
              "      <td>0.000658</td>\n",
              "    </tr>\n",
              "    <tr>\n",
              "      <th>17</th>\n",
              "      <td>(0, 1, 2, 4, 7, 9, 10, 24, 31, 34, 35, 36, 41,...</td>\n",
              "      <td>[0.8379920136908158, 0.8356199549331128]</td>\n",
              "      <td>0.836806</td>\n",
              "      <td>(POB_E_A, POB_L_A, VTOT_A, P4_8_2, P4_12_3, P6...</td>\n",
              "      <td>0.005103</td>\n",
              "      <td>0.001186</td>\n",
              "      <td>0.001186</td>\n",
              "    </tr>\n",
              "    <tr>\n",
              "      <th>18</th>\n",
              "      <td>(0, 1, 2, 4, 7, 9, 10, 24, 31, 34, 35, 36, 41,...</td>\n",
              "      <td>[0.8384483742156303, 0.8357625716649077]</td>\n",
              "      <td>0.837105</td>\n",
              "      <td>(POB_E_A, POB_L_A, VTOT_A, P4_8_2, P4_12_3, P6...</td>\n",
              "      <td>0.005778</td>\n",
              "      <td>0.001343</td>\n",
              "      <td>0.001343</td>\n",
              "    </tr>\n",
              "    <tr>\n",
              "      <th>19</th>\n",
              "      <td>(0, 1, 2, 4, 5, 7, 9, 10, 24, 31, 34, 35, 36, ...</td>\n",
              "      <td>[0.8380775812892185, 0.8358196183576257]</td>\n",
              "      <td>0.836949</td>\n",
              "      <td>(POB_E_A, POB_L_A, VTOT_A, P4_8_2, P4_8_3, P4_...</td>\n",
              "      <td>0.004858</td>\n",
              "      <td>0.001129</td>\n",
              "      <td>0.001129</td>\n",
              "    </tr>\n",
              "    <tr>\n",
              "      <th>20</th>\n",
              "      <td>(0, 1, 2, 4, 5, 7, 9, 10, 18, 24, 31, 34, 35, ...</td>\n",
              "      <td>[0.8377067883628067, 0.8357625716649077]</td>\n",
              "      <td>0.836735</td>\n",
              "      <td>(POB_E_A, POB_L_A, VTOT_A, P4_8_2, P4_8_3, P4_...</td>\n",
              "      <td>0.004183</td>\n",
              "      <td>0.000972</td>\n",
              "      <td>0.000972</td>\n",
              "    </tr>\n",
              "  </tbody>\n",
              "</table>\n",
              "</div>\n",
              "    <div class=\"colab-df-buttons\">\n",
              "\n",
              "  <div class=\"colab-df-container\">\n",
              "    <button class=\"colab-df-convert\" onclick=\"convertToInteractive('df-799e94e2-0300-4ff6-9db4-0cf8211c97b6')\"\n",
              "            title=\"Convert this dataframe to an interactive table.\"\n",
              "            style=\"display:none;\">\n",
              "\n",
              "  <svg xmlns=\"http://www.w3.org/2000/svg\" height=\"24px\" viewBox=\"0 -960 960 960\">\n",
              "    <path d=\"M120-120v-720h720v720H120Zm60-500h600v-160H180v160Zm220 220h160v-160H400v160Zm0 220h160v-160H400v160ZM180-400h160v-160H180v160Zm440 0h160v-160H620v160ZM180-180h160v-160H180v160Zm440 0h160v-160H620v160Z\"/>\n",
              "  </svg>\n",
              "    </button>\n",
              "\n",
              "  <style>\n",
              "    .colab-df-container {\n",
              "      display:flex;\n",
              "      gap: 12px;\n",
              "    }\n",
              "\n",
              "    .colab-df-convert {\n",
              "      background-color: #E8F0FE;\n",
              "      border: none;\n",
              "      border-radius: 50%;\n",
              "      cursor: pointer;\n",
              "      display: none;\n",
              "      fill: #1967D2;\n",
              "      height: 32px;\n",
              "      padding: 0 0 0 0;\n",
              "      width: 32px;\n",
              "    }\n",
              "\n",
              "    .colab-df-convert:hover {\n",
              "      background-color: #E2EBFA;\n",
              "      box-shadow: 0px 1px 2px rgba(60, 64, 67, 0.3), 0px 1px 3px 1px rgba(60, 64, 67, 0.15);\n",
              "      fill: #174EA6;\n",
              "    }\n",
              "\n",
              "    .colab-df-buttons div {\n",
              "      margin-bottom: 4px;\n",
              "    }\n",
              "\n",
              "    [theme=dark] .colab-df-convert {\n",
              "      background-color: #3B4455;\n",
              "      fill: #D2E3FC;\n",
              "    }\n",
              "\n",
              "    [theme=dark] .colab-df-convert:hover {\n",
              "      background-color: #434B5C;\n",
              "      box-shadow: 0px 1px 3px 1px rgba(0, 0, 0, 0.15);\n",
              "      filter: drop-shadow(0px 1px 2px rgba(0, 0, 0, 0.3));\n",
              "      fill: #FFFFFF;\n",
              "    }\n",
              "  </style>\n",
              "\n",
              "    <script>\n",
              "      const buttonEl =\n",
              "        document.querySelector('#df-799e94e2-0300-4ff6-9db4-0cf8211c97b6 button.colab-df-convert');\n",
              "      buttonEl.style.display =\n",
              "        google.colab.kernel.accessAllowed ? 'block' : 'none';\n",
              "\n",
              "      async function convertToInteractive(key) {\n",
              "        const element = document.querySelector('#df-799e94e2-0300-4ff6-9db4-0cf8211c97b6');\n",
              "        const dataTable =\n",
              "          await google.colab.kernel.invokeFunction('convertToInteractive',\n",
              "                                                    [key], {});\n",
              "        if (!dataTable) return;\n",
              "\n",
              "        const docLinkHtml = 'Like what you see? Visit the ' +\n",
              "          '<a target=\"_blank\" href=https://colab.research.google.com/notebooks/data_table.ipynb>data table notebook</a>'\n",
              "          + ' to learn more about interactive tables.';\n",
              "        element.innerHTML = '';\n",
              "        dataTable['output_type'] = 'display_data';\n",
              "        await google.colab.output.renderOutput(dataTable, element);\n",
              "        const docLink = document.createElement('div');\n",
              "        docLink.innerHTML = docLinkHtml;\n",
              "        element.appendChild(docLink);\n",
              "      }\n",
              "    </script>\n",
              "  </div>\n",
              "\n",
              "\n",
              "<div id=\"df-4da03643-c8de-47a8-ade5-a06ad357b7a2\">\n",
              "  <button class=\"colab-df-quickchart\" onclick=\"quickchart('df-4da03643-c8de-47a8-ade5-a06ad357b7a2')\"\n",
              "            title=\"Suggest charts\"\n",
              "            style=\"display:none;\">\n",
              "\n",
              "<svg xmlns=\"http://www.w3.org/2000/svg\" height=\"24px\"viewBox=\"0 0 24 24\"\n",
              "     width=\"24px\">\n",
              "    <g>\n",
              "        <path d=\"M19 3H5c-1.1 0-2 .9-2 2v14c0 1.1.9 2 2 2h14c1.1 0 2-.9 2-2V5c0-1.1-.9-2-2-2zM9 17H7v-7h2v7zm4 0h-2V7h2v10zm4 0h-2v-4h2v4z\"/>\n",
              "    </g>\n",
              "</svg>\n",
              "  </button>\n",
              "\n",
              "<style>\n",
              "  .colab-df-quickchart {\n",
              "      --bg-color: #E8F0FE;\n",
              "      --fill-color: #1967D2;\n",
              "      --hover-bg-color: #E2EBFA;\n",
              "      --hover-fill-color: #174EA6;\n",
              "      --disabled-fill-color: #AAA;\n",
              "      --disabled-bg-color: #DDD;\n",
              "  }\n",
              "\n",
              "  [theme=dark] .colab-df-quickchart {\n",
              "      --bg-color: #3B4455;\n",
              "      --fill-color: #D2E3FC;\n",
              "      --hover-bg-color: #434B5C;\n",
              "      --hover-fill-color: #FFFFFF;\n",
              "      --disabled-bg-color: #3B4455;\n",
              "      --disabled-fill-color: #666;\n",
              "  }\n",
              "\n",
              "  .colab-df-quickchart {\n",
              "    background-color: var(--bg-color);\n",
              "    border: none;\n",
              "    border-radius: 50%;\n",
              "    cursor: pointer;\n",
              "    display: none;\n",
              "    fill: var(--fill-color);\n",
              "    height: 32px;\n",
              "    padding: 0;\n",
              "    width: 32px;\n",
              "  }\n",
              "\n",
              "  .colab-df-quickchart:hover {\n",
              "    background-color: var(--hover-bg-color);\n",
              "    box-shadow: 0 1px 2px rgba(60, 64, 67, 0.3), 0 1px 3px 1px rgba(60, 64, 67, 0.15);\n",
              "    fill: var(--button-hover-fill-color);\n",
              "  }\n",
              "\n",
              "  .colab-df-quickchart-complete:disabled,\n",
              "  .colab-df-quickchart-complete:disabled:hover {\n",
              "    background-color: var(--disabled-bg-color);\n",
              "    fill: var(--disabled-fill-color);\n",
              "    box-shadow: none;\n",
              "  }\n",
              "\n",
              "  .colab-df-spinner {\n",
              "    border: 2px solid var(--fill-color);\n",
              "    border-color: transparent;\n",
              "    border-bottom-color: var(--fill-color);\n",
              "    animation:\n",
              "      spin 1s steps(1) infinite;\n",
              "  }\n",
              "\n",
              "  @keyframes spin {\n",
              "    0% {\n",
              "      border-color: transparent;\n",
              "      border-bottom-color: var(--fill-color);\n",
              "      border-left-color: var(--fill-color);\n",
              "    }\n",
              "    20% {\n",
              "      border-color: transparent;\n",
              "      border-left-color: var(--fill-color);\n",
              "      border-top-color: var(--fill-color);\n",
              "    }\n",
              "    30% {\n",
              "      border-color: transparent;\n",
              "      border-left-color: var(--fill-color);\n",
              "      border-top-color: var(--fill-color);\n",
              "      border-right-color: var(--fill-color);\n",
              "    }\n",
              "    40% {\n",
              "      border-color: transparent;\n",
              "      border-right-color: var(--fill-color);\n",
              "      border-top-color: var(--fill-color);\n",
              "    }\n",
              "    60% {\n",
              "      border-color: transparent;\n",
              "      border-right-color: var(--fill-color);\n",
              "    }\n",
              "    80% {\n",
              "      border-color: transparent;\n",
              "      border-right-color: var(--fill-color);\n",
              "      border-bottom-color: var(--fill-color);\n",
              "    }\n",
              "    90% {\n",
              "      border-color: transparent;\n",
              "      border-bottom-color: var(--fill-color);\n",
              "    }\n",
              "  }\n",
              "</style>\n",
              "\n",
              "  <script>\n",
              "    async function quickchart(key) {\n",
              "      const quickchartButtonEl =\n",
              "        document.querySelector('#' + key + ' button');\n",
              "      quickchartButtonEl.disabled = true;  // To prevent multiple clicks.\n",
              "      quickchartButtonEl.classList.add('colab-df-spinner');\n",
              "      try {\n",
              "        const charts = await google.colab.kernel.invokeFunction(\n",
              "            'suggestCharts', [key], {});\n",
              "      } catch (error) {\n",
              "        console.error('Error during call to suggestCharts:', error);\n",
              "      }\n",
              "      quickchartButtonEl.classList.remove('colab-df-spinner');\n",
              "      quickchartButtonEl.classList.add('colab-df-quickchart-complete');\n",
              "    }\n",
              "    (() => {\n",
              "      let quickchartButtonEl =\n",
              "        document.querySelector('#df-4da03643-c8de-47a8-ade5-a06ad357b7a2 button');\n",
              "      quickchartButtonEl.style.display =\n",
              "        google.colab.kernel.accessAllowed ? 'block' : 'none';\n",
              "    })();\n",
              "  </script>\n",
              "</div>\n",
              "    </div>\n",
              "  </div>\n"
            ],
            "text/plain": [
              "                                          feature_idx  \\\n",
              "1                                               (31,)   \n",
              "2                                             (2, 31)   \n",
              "3                                         (2, 31, 34)   \n",
              "4                                     (2, 31, 34, 36)   \n",
              "5                                 (2, 10, 31, 34, 36)   \n",
              "6                             (2, 10, 31, 34, 36, 41)   \n",
              "7                         (2, 10, 31, 34, 36, 41, 46)   \n",
              "8                     (2, 10, 31, 34, 36, 41, 44, 46)   \n",
              "9                 (2, 10, 31, 34, 36, 41, 44, 45, 46)   \n",
              "10            (2, 10, 31, 34, 36, 41, 43, 44, 45, 46)   \n",
              "11         (2, 7, 10, 31, 34, 36, 41, 43, 44, 45, 46)   \n",
              "12      (2, 7, 9, 10, 31, 34, 36, 41, 43, 44, 45, 46)   \n",
              "13   (2, 4, 7, 9, 10, 31, 34, 36, 41, 43, 44, 45, 46)   \n",
              "14  (2, 4, 7, 9, 10, 24, 31, 34, 36, 41, 43, 44, 4...   \n",
              "15  (0, 2, 4, 7, 9, 10, 24, 31, 34, 36, 41, 43, 44...   \n",
              "16  (0, 2, 4, 7, 9, 10, 24, 31, 34, 35, 36, 41, 43...   \n",
              "17  (0, 1, 2, 4, 7, 9, 10, 24, 31, 34, 35, 36, 41,...   \n",
              "18  (0, 1, 2, 4, 7, 9, 10, 24, 31, 34, 35, 36, 41,...   \n",
              "19  (0, 1, 2, 4, 5, 7, 9, 10, 24, 31, 34, 35, 36, ...   \n",
              "20  (0, 1, 2, 4, 5, 7, 9, 10, 18, 24, 31, 34, 35, ...   \n",
              "\n",
              "                                   cv_scores avg_score  \\\n",
              "1   [0.8303479749001711, 0.8274908012207992]  0.828919   \n",
              "2   [0.8303479749001711, 0.8274908012207992]  0.828919   \n",
              "3   [0.8373930405019966, 0.8350209646595739]  0.836207   \n",
              "4   [0.8379920136908158, 0.8363615619384466]  0.837177   \n",
              "5   [0.8401026811180833, 0.8378447759491143]  0.838974   \n",
              "6   [0.8401312036508842, 0.8379303459881914]  0.839031   \n",
              "7   [0.8401597261836851, 0.8379303459881914]  0.839045   \n",
              "8   [0.8401312036508842, 0.8379303459881914]  0.839031   \n",
              "9   [0.8397033656588705, 0.8377592059100374]  0.838731   \n",
              "10  [0.8387906446092414, 0.8384437662226533]  0.838617   \n",
              "11  [0.8391614375356532, 0.8385293362617302]  0.838845   \n",
              "12  [0.8391614375356532, 0.8379873926809093]  0.838574   \n",
              "13  [0.8385054192812321, 0.8373313557146524]  0.837918   \n",
              "14  [0.8385054192812321, 0.8363330385920876]  0.837419   \n",
              "15  [0.8376782658300057, 0.8369035055192675]  0.837291   \n",
              "16  [0.8373930405019966, 0.8360763284748567]  0.836735   \n",
              "17  [0.8379920136908158, 0.8356199549331128]  0.836806   \n",
              "18  [0.8384483742156303, 0.8357625716649077]  0.837105   \n",
              "19  [0.8380775812892185, 0.8358196183576257]  0.836949   \n",
              "20  [0.8377067883628067, 0.8357625716649077]  0.836735   \n",
              "\n",
              "                                        feature_names  ci_bound   std_dev  \\\n",
              "1                                         (P14_1_10,)  0.006147  0.001429   \n",
              "2                                  (VTOT_A, P14_1_10)  0.006147  0.001429   \n",
              "3                        (VTOT_A, P14_1_10, P14_1_17)  0.005103  0.001186   \n",
              "4              (VTOT_A, P14_1_10, P14_1_17, P14_1_29)  0.003508  0.000815   \n",
              "5       (VTOT_A, P12_4, P14_1_10, P14_1_17, P14_1_29)  0.004857  0.001129   \n",
              "6   (VTOT_A, P12_4, P14_1_10, P14_1_17, P14_1_29, ...  0.004735    0.0011   \n",
              "7   (VTOT_A, P12_4, P14_1_10, P14_1_17, P14_1_29, ...  0.004796  0.001115   \n",
              "8   (VTOT_A, P12_4, P14_1_10, P14_1_17, P14_1_29, ...  0.004735    0.0011   \n",
              "9   (VTOT_A, P12_4, P14_1_10, P14_1_17, P14_1_29, ...  0.004183  0.000972   \n",
              "10  (VTOT_A, P12_4, P14_1_10, P14_1_17, P14_1_29, ...  0.000746  0.000173   \n",
              "11  (VTOT_A, P4_12_3, P12_4, P14_1_10, P14_1_17, P...   0.00136  0.000316   \n",
              "12  (VTOT_A, P4_12_3, P6_1_5, P12_4, P14_1_10, P14...  0.002526  0.000587   \n",
              "13  (VTOT_A, P4_8_2, P4_12_3, P6_1_5, P12_4, P14_1...  0.002526  0.000587   \n",
              "14  (VTOT_A, P4_8_2, P4_12_3, P6_1_5, P12_4, P13_1...  0.004673  0.001086   \n",
              "15  (POB_E_A, VTOT_A, P4_8_2, P4_12_3, P6_1_5, P12...  0.001667  0.000387   \n",
              "16  (POB_E_A, VTOT_A, P4_8_2, P4_12_3, P6_1_5, P12...  0.002833  0.000658   \n",
              "17  (POB_E_A, POB_L_A, VTOT_A, P4_8_2, P4_12_3, P6...  0.005103  0.001186   \n",
              "18  (POB_E_A, POB_L_A, VTOT_A, P4_8_2, P4_12_3, P6...  0.005778  0.001343   \n",
              "19  (POB_E_A, POB_L_A, VTOT_A, P4_8_2, P4_8_3, P4_...  0.004858  0.001129   \n",
              "20  (POB_E_A, POB_L_A, VTOT_A, P4_8_2, P4_8_3, P4_...  0.004183  0.000972   \n",
              "\n",
              "     std_err  \n",
              "1   0.001429  \n",
              "2   0.001429  \n",
              "3   0.001186  \n",
              "4   0.000815  \n",
              "5   0.001129  \n",
              "6     0.0011  \n",
              "7   0.001115  \n",
              "8     0.0011  \n",
              "9   0.000972  \n",
              "10  0.000173  \n",
              "11  0.000316  \n",
              "12  0.000587  \n",
              "13  0.000587  \n",
              "14  0.001086  \n",
              "15  0.000387  \n",
              "16  0.000658  \n",
              "17  0.001186  \n",
              "18  0.001343  \n",
              "19  0.001129  \n",
              "20  0.000972  "
            ]
          },
          "execution_count": 22,
          "metadata": {},
          "output_type": "execute_result"
        }
      ],
      "source": [
        "pd.DataFrame.from_dict(sfs.get_metric_dict()).T"
      ]
    },
    {
      "cell_type": "code",
      "execution_count": null,
      "metadata": {
        "colab": {
          "background_save": true
        },
        "id": "K3HLIl0ChvZ9"
      },
      "outputs": [],
      "source": [
        "featsel = pd.DataFrame.from_dict(sfs.get_metric_dict()).T"
      ]
    },
    {
      "cell_type": "code",
      "execution_count": null,
      "metadata": {
        "colab": {
          "background_save": true
        },
        "id": "AqqVu2I8jJ5z"
      },
      "outputs": [],
      "source": [
        "featsel.to_csv('/content/drive/MyDrive/ProyectoAnalisisDS/featsel.csv')"
      ]
    },
    {
      "cell_type": "markdown",
      "metadata": {
        "id": "cuCE22igpPJB"
      },
      "source": [
        "# Con mayor score de feature selection (5 features)"
      ]
    },
    {
      "cell_type": "code",
      "execution_count": null,
      "metadata": {
        "colab": {
          "background_save": true
        },
        "id": "_ouDEeLAn16T"
      },
      "outputs": [],
      "source": [
        "cols = ['VTOT_A', 'P12_4', 'P14_1_10', 'P14_1_17', 'P14_1_29']\n",
        "X = dff[cols]\n",
        "y = dff[\"VPAR_12M\"]"
      ]
    },
    {
      "cell_type": "code",
      "execution_count": null,
      "metadata": {
        "colab": {
          "background_save": true
        },
        "id": "dDE5EmX6pJAn"
      },
      "outputs": [],
      "source": [
        "enc = OneHotEncoder()\n",
        "enc = enc.fit(X)\n",
        "categories = enc.categories_"
      ]
    },
    {
      "cell_type": "code",
      "execution_count": null,
      "metadata": {
        "colab": {
          "background_save": true
        },
        "id": "fGWrfhNFoo7t"
      },
      "outputs": [],
      "source": [
        "pre_processing = (OneHotEncoder(drop = 'first', categories = categories))"
      ]
    },
    {
      "cell_type": "code",
      "execution_count": null,
      "metadata": {
        "colab": {
          "background_save": true
        },
        "id": "xIhJX-nto3Uf"
      },
      "outputs": [],
      "source": [
        "X_train, X_test, y_train, y_test = train_test_split(X, y, test_size = 0.30, random_state = 1234)"
      ]
    },
    {
      "cell_type": "markdown",
      "metadata": {
        "id": "Tit8xF6co3Ug"
      },
      "source": [
        "Modelo de regresión logística"
      ]
    },
    {
      "cell_type": "code",
      "execution_count": null,
      "metadata": {
        "colab": {
          "background_save": true
        },
        "id": "WtF-umVAo3Uh"
      },
      "outputs": [],
      "source": [
        "lr = LogisticRegression(solver='saga', max_iter = 10000)"
      ]
    },
    {
      "cell_type": "code",
      "execution_count": null,
      "metadata": {
        "colab": {
          "background_save": true
        },
        "id": "kbLXyTujo3Uh"
      },
      "outputs": [],
      "source": [
        "lr_pipeline = make_pipeline(pre_processing, lr)"
      ]
    },
    {
      "cell_type": "code",
      "execution_count": null,
      "metadata": {
        "colab": {
          "background_save": true
        },
        "id": "AuliajnSo3Ut"
      },
      "outputs": [],
      "source": [
        "lr_fitted = lr_pipeline.fit(X_train, y_train)"
      ]
    },
    {
      "cell_type": "markdown",
      "metadata": {
        "id": "0lXI4p0Oo3Ut"
      },
      "source": [
        "Precisión del modelo"
      ]
    },
    {
      "cell_type": "code",
      "execution_count": null,
      "metadata": {
        "colab": {
          "background_save": true
        },
        "id": "IxCVRTi5o3Ut",
        "outputId": "8a104a6a-a9ff-465e-ffed-b97eb481c65a"
      },
      "outputs": [
        {
          "data": {
            "text/plain": [
              "0.8454678557167576"
            ]
          },
          "execution_count": 32,
          "metadata": {},
          "output_type": "execute_result"
        }
      ],
      "source": [
        "lr_pipeline.score(X_test, y_test)"
      ]
    },
    {
      "cell_type": "code",
      "execution_count": null,
      "metadata": {
        "colab": {
          "background_save": true
        },
        "id": "77Sb9zqX5PFE",
        "outputId": "0339d473-91ec-4c4b-83b7-c6e513a365b9"
      },
      "outputs": [
        {
          "name": "stdout",
          "output_type": "stream",
          "text": [
            "El intercepto del modelo es:  [-0.64485127]\n",
            "Los coeficientes del modelo son:  [[ 6.57945268  2.95879851 -0.05336519  0.19811247 -1.33669741 -0.30313555\n",
            "   1.09450492 -0.23366128 -0.15851202  1.47878935 -0.30496922 -0.38632179\n",
            "  -0.58425892]]\n"
          ]
        }
      ],
      "source": [
        "print(\"El intercepto del modelo es: \", lr_pipeline.named_steps[\"logisticregression\"].intercept_)\n",
        "print(\"Los coeficientes del modelo son: \", lr_pipeline.named_steps[\"logisticregression\"].coef_)"
      ]
    },
    {
      "cell_type": "markdown",
      "metadata": {
        "id": "byK2d13fpXpd"
      },
      "source": [
        "# Con 20 features de feature selection"
      ]
    },
    {
      "cell_type": "code",
      "execution_count": null,
      "metadata": {
        "colab": {
          "background_save": true
        },
        "id": "0acAbSrOps8e"
      },
      "outputs": [],
      "source": [
        "cols = ['POB_E_A',\n",
        " 'POB_L_A',\n",
        " 'VTOT_A',\n",
        " 'P4_8_2',\n",
        " 'P4_8_3',\n",
        " 'P4_12_3',\n",
        " 'P6_1_5',\n",
        " 'P12_4',\n",
        " 'P12_14_5',\n",
        " 'P13_1_1_7',\n",
        " 'P14_1_10',\n",
        " 'P14_1_17',\n",
        " 'P14_1_26',\n",
        " 'P14_1_29',\n",
        " 'PE5_1',\n",
        " 'PE5_3',\n",
        " 'PE5_5',\n",
        " 'PE5_7',\n",
        " 'PE5_12',\n",
        " 'PE5_14']"
      ]
    },
    {
      "cell_type": "code",
      "execution_count": null,
      "metadata": {
        "colab": {
          "background_save": true
        },
        "id": "Q0RWCeAupXpf"
      },
      "outputs": [],
      "source": [
        "X = dff[cols]\n",
        "y = dff[\"VPAR_12M\"]"
      ]
    },
    {
      "cell_type": "code",
      "execution_count": null,
      "metadata": {
        "colab": {
          "background_save": true
        },
        "id": "OPzhrtaIpXpf"
      },
      "outputs": [],
      "source": [
        "enc = OneHotEncoder()\n",
        "enc = enc.fit(X)\n",
        "categories = enc.categories_"
      ]
    },
    {
      "cell_type": "code",
      "execution_count": null,
      "metadata": {
        "colab": {
          "background_save": true
        },
        "id": "Bu3YgPjVpXpg"
      },
      "outputs": [],
      "source": [
        "pre_processing = (OneHotEncoder(drop = 'first', categories = categories))"
      ]
    },
    {
      "cell_type": "code",
      "execution_count": null,
      "metadata": {
        "colab": {
          "background_save": true
        },
        "id": "A9JVv2TypXpg"
      },
      "outputs": [],
      "source": [
        "X_train, X_test, y_train, y_test = train_test_split(X, y, test_size = 0.30, random_state = 1234)"
      ]
    },
    {
      "cell_type": "markdown",
      "metadata": {
        "id": "YxQuFl7YpXpg"
      },
      "source": [
        "Modelo de regresión logística"
      ]
    },
    {
      "cell_type": "code",
      "execution_count": null,
      "metadata": {
        "colab": {
          "background_save": true
        },
        "id": "PmUPzxCrpXpg"
      },
      "outputs": [],
      "source": [
        "lr = LogisticRegression(solver='saga', max_iter = 10000)"
      ]
    },
    {
      "cell_type": "code",
      "execution_count": null,
      "metadata": {
        "colab": {
          "background_save": true
        },
        "id": "zikY7nOxpXph"
      },
      "outputs": [],
      "source": [
        "lr_pipeline = make_pipeline(pre_processing, lr)"
      ]
    },
    {
      "cell_type": "code",
      "execution_count": null,
      "metadata": {
        "colab": {
          "background_save": true
        },
        "id": "LrRQTATRpXph"
      },
      "outputs": [],
      "source": [
        "lr_fitted = lr_pipeline.fit(X_train, y_train)"
      ]
    },
    {
      "cell_type": "markdown",
      "metadata": {
        "id": "d0a9o4nDpXph"
      },
      "source": [
        "Precisión del modelo"
      ]
    },
    {
      "cell_type": "code",
      "execution_count": null,
      "metadata": {
        "colab": {
          "background_save": true
        },
        "id": "oD2QzaKEpXph",
        "outputId": "9706a165-0246-4716-b6be-28cc9f0cc2bb"
      },
      "outputs": [
        {
          "data": {
            "text/plain": [
              "0.8485292160255558"
            ]
          },
          "execution_count": 42,
          "metadata": {},
          "output_type": "execute_result"
        }
      ],
      "source": [
        "lr_pipeline.score(X_test, y_test)"
      ]
    },
    {
      "cell_type": "code",
      "execution_count": null,
      "metadata": {
        "colab": {
          "background_save": true
        },
        "id": "U7OvT8TS5baZ",
        "outputId": "a51d9a85-1037-4d79-d52a-2ec86d76ab37"
      },
      "outputs": [
        {
          "name": "stdout",
          "output_type": "stream",
          "text": [
            "El intercepto del modelo es:  [-1.37461496]\n",
            "Los coeficientes del modelo son:  [[-0.23508931  0.13354846  6.57918666  2.94755671 -0.14819022 -0.34684353\n",
            "   0.08123522 -0.1406762   0.11017672 -0.05552731  0.19145014  0.19764649\n",
            "   0.31812382  0.12161835 -1.31996162 -0.27612861  1.12355717 -0.25808572\n",
            "  -0.18064262  1.43262861  0.0309368  -0.15142655 -0.13316156 -0.29477295\n",
            "  -0.38607634 -0.54338167  0.16538823  0.37688728  0.56960734 -0.11916334\n",
            "   0.13120209  0.02446067]]\n"
          ]
        }
      ],
      "source": [
        "print(\"El intercepto del modelo es: \", lr_pipeline.named_steps[\"logisticregression\"].intercept_)\n",
        "print(\"Los coeficientes del modelo son: \", lr_pipeline.named_steps[\"logisticregression\"].coef_)"
      ]
    }
  ],
  "metadata": {
    "colab": {
      "provenance": []
    },
    "kernelspec": {
      "display_name": "Python 3",
      "name": "python3"
    },
    "language_info": {
      "name": "python"
    }
  },
  "nbformat": 4,
  "nbformat_minor": 0
}